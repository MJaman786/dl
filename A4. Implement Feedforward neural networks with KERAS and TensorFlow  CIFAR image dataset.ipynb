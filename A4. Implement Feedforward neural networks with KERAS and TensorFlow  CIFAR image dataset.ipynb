{
 "cells": [
  {
   "cell_type": "code",
   "execution_count": 73,
   "id": "2b30a304-3f7e-4d9d-aa97-7f02ce61e230",
   "metadata": {},
   "outputs": [],
   "source": [
    "import numpy as np\n",
    "import matplotlib.pyplot as plt\n",
    "import tensorflow as tf\n",
    "from tensorflow.keras.preprocessing.image import ImageDataGenerator\n",
    "from tensorflow.keras.utils import load_img, img_to_array\n",
    "from tensorflow.keras.models import Sequential\n",
    "from tensorflow.keras.layers import Conv2D, MaxPooling2D, Flatten, Dense, Dropout"
   ]
  },
  {
   "cell_type": "code",
   "execution_count": 74,
   "id": "78bfb85f-9e40-4af1-8df1-a9323b7c5a88",
   "metadata": {},
   "outputs": [],
   "source": [
    "dataset = 'datasets/4_CIFAR 10_images_dataset/cifar10_dataset/'"
   ]
  },
  {
   "cell_type": "code",
   "execution_count": 75,
   "id": "12b6f186-049e-43dd-8a92-1dfbb73166b3",
   "metadata": {},
   "outputs": [],
   "source": [
    "dataset_generator = ImageDataGenerator(\n",
    "    rotation_range=20,\n",
    "    width_shift_range=0.2,\n",
    "    height_shift_range=0.2,\n",
    "    shear_range=0.2,\n",
    "    zoom_range=0.2,\n",
    "    fill_mode='nearest',\n",
    "    horizontal_flip=True,\n",
    "    rescale=1/255.0,\n",
    "    validation_split=0.2\n",
    ")"
   ]
  },
  {
   "cell_type": "code",
   "execution_count": 76,
   "id": "47d79865-0619-45be-b724-097a25903c72",
   "metadata": {},
   "outputs": [
    {
     "name": "stdout",
     "output_type": "stream",
     "text": [
      "Found 48000 images belonging to 10 classes.\n",
      "Found 12000 images belonging to 10 classes.\n"
     ]
    }
   ],
   "source": [
    "train_data = dataset_generator.flow_from_directory(\n",
    "    dataset,\n",
    "    target_size=(32, 32),\n",
    "    color_mode='rgb',\n",
    "    class_mode='categorical',\n",
    "    batch_size=32,\n",
    "    subset='training'\n",
    ")\n",
    "\n",
    "test_data = dataset_generator.flow_from_directory(\n",
    "    dataset,\n",
    "    target_size=(32, 32),\n",
    "    color_mode='rgb',\n",
    "    class_mode='categorical',\n",
    "    batch_size=32,\n",
    "    subset='validation'\n",
    ")"
   ]
  },
  {
   "cell_type": "code",
   "execution_count": 77,
   "id": "b46c208b-f8d2-4841-b96e-892d67accc63",
   "metadata": {},
   "outputs": [
    {
     "name": "stdout",
     "output_type": "stream",
     "text": [
      "Model: \"sequential_2\"\n",
      "_________________________________________________________________\n",
      " Layer (type)                Output Shape              Param #   \n",
      "=================================================================\n",
      " conv2d_7 (Conv2D)           (None, 30, 30, 32)        896       \n",
      "                                                                 \n",
      " max_pooling2d_6 (MaxPooling  (None, 15, 15, 32)       0         \n",
      " 2D)                                                             \n",
      "                                                                 \n",
      " conv2d_8 (Conv2D)           (None, 13, 13, 64)        18496     \n",
      "                                                                 \n",
      " max_pooling2d_7 (MaxPooling  (None, 6, 6, 64)         0         \n",
      " 2D)                                                             \n",
      "                                                                 \n",
      " conv2d_9 (Conv2D)           (None, 4, 4, 128)         73856     \n",
      "                                                                 \n",
      " max_pooling2d_8 (MaxPooling  (None, 2, 2, 128)        0         \n",
      " 2D)                                                             \n",
      "                                                                 \n",
      " flatten_2 (Flatten)         (None, 512)               0         \n",
      "                                                                 \n",
      " dense_4 (Dense)             (None, 128)               65664     \n",
      "                                                                 \n",
      " dropout_2 (Dropout)         (None, 128)               0         \n",
      "                                                                 \n",
      " dense_5 (Dense)             (None, 10)                1290      \n",
      "                                                                 \n",
      "=================================================================\n",
      "Total params: 160,202\n",
      "Trainable params: 160,202\n",
      "Non-trainable params: 0\n",
      "_________________________________________________________________\n"
     ]
    }
   ],
   "source": [
    "# model\n",
    "model = Sequential()\n",
    "\n",
    "model.add(Conv2D(32, (3,3), activation='relu', input_shape=(32, 32, 3)))\n",
    "model.add(MaxPooling2D(pool_size=(2,2)))\n",
    "\n",
    "model.add(Conv2D(64, (3,3), activation='relu'))\n",
    "model.add(MaxPooling2D(pool_size=(2,2)))\n",
    "\n",
    "model.add(Conv2D(128, (3,3), activation='relu'))\n",
    "model.add(MaxPooling2D(pool_size=(2,2)))\n",
    "\n",
    "model.add(Flatten())\n",
    "\n",
    "model.add(Dense(128, activation='relu'))\n",
    "model.add(Dropout(0.5))\n",
    "\n",
    "model.add(Dense(10, activation='softmax'))\n",
    "\n",
    "model.summary()"
   ]
  },
  {
   "cell_type": "code",
   "execution_count": 83,
   "id": "e7158db9-6ca6-48e0-9ae2-fea0f8136c54",
   "metadata": {},
   "outputs": [],
   "source": [
    "model.compile(optimizer='adam', loss='categorical_crossentropy', metrics=['accuracy'])"
   ]
  },
  {
   "cell_type": "code",
   "execution_count": 85,
   "id": "ea8a3079-13b6-42e0-8844-cadd80b54281",
   "metadata": {},
   "outputs": [
    {
     "name": "stdout",
     "output_type": "stream",
     "text": [
      "Epoch 1/100\n",
      "1500/1500 [==============================] - 47s 31ms/step - loss: 0.8807 - accuracy: 0.7008 - val_loss: 0.8833 - val_accuracy: 0.6975\n",
      "Epoch 2/100\n",
      "1500/1500 [==============================] - 46s 31ms/step - loss: 0.8814 - accuracy: 0.7015 - val_loss: 0.9076 - val_accuracy: 0.6892\n",
      "Epoch 3/100\n",
      "1500/1500 [==============================] - 46s 31ms/step - loss: 0.8804 - accuracy: 0.7023 - val_loss: 0.8471 - val_accuracy: 0.7097\n",
      "Epoch 4/100\n",
      "1500/1500 [==============================] - 48s 32ms/step - loss: 0.8826 - accuracy: 0.7020 - val_loss: 0.8712 - val_accuracy: 0.7057\n",
      "Epoch 5/100\n",
      "1500/1500 [==============================] - 46s 31ms/step - loss: 0.8818 - accuracy: 0.7031 - val_loss: 0.8889 - val_accuracy: 0.6985\n",
      "Epoch 6/100\n",
      "1500/1500 [==============================] - 47s 31ms/step - loss: 0.8720 - accuracy: 0.6999 - val_loss: 0.8903 - val_accuracy: 0.6919\n",
      "Epoch 7/100\n",
      "1500/1500 [==============================] - 46s 31ms/step - loss: 0.8733 - accuracy: 0.7051 - val_loss: 0.8654 - val_accuracy: 0.7053\n",
      "Epoch 8/100\n",
      "1500/1500 [==============================] - 46s 30ms/step - loss: 0.8790 - accuracy: 0.7025 - val_loss: 0.8614 - val_accuracy: 0.7039\n"
     ]
    }
   ],
   "source": [
    "from tensorflow.keras.callbacks import EarlyStopping\n",
    "\n",
    "# Define EarlyStopping callback\n",
    "early_stopping = EarlyStopping(\n",
    "    monitor='val_loss',  # Can also be 'val_accuracy'\n",
    "    patience=5,          # Number of epochs with no improvement after which training will be stopped\n",
    "    restore_best_weights=True  # Restores model weights from the epoch with the best value of the monitored quantity\n",
    ")\n",
    "\n",
    "history = model.fit(\n",
    "    train_data,\n",
    "    steps_per_epoch=(len(train_data)),\n",
    "    epochs=100,\n",
    "    validation_data=(test_data),\n",
    "    validation_steps=(len(test_data)),\n",
    "    callbacks=[early_stopping]\n",
    ")"
   ]
  },
  {
   "cell_type": "code",
   "execution_count": 86,
   "id": "03c5d346-34ce-4b8f-9b60-b9f65ac866f8",
   "metadata": {},
   "outputs": [
    {
     "name": "stdout",
     "output_type": "stream",
     "text": [
      "375/375 [==============================] - 9s 25ms/step - loss: 0.8374 - accuracy: 0.7109\n"
     ]
    },
    {
     "data": {
      "text/plain": [
       "[0.8373835682868958, 0.7109166383743286]"
      ]
     },
     "execution_count": 86,
     "metadata": {},
     "output_type": "execute_result"
    }
   ],
   "source": [
    "model.evaluate(test_data)"
   ]
  },
  {
   "cell_type": "code",
   "execution_count": 122,
   "id": "87a173af-4219-48fb-b41b-3786ab456cbc",
   "metadata": {},
   "outputs": [],
   "source": [
    "labels = [\n",
    "    'airplane',\n",
    "    'automobile',\n",
    "    'bird',\n",
    "    'cat',\n",
    "    'deer',\n",
    "    'dog',\n",
    "    'frog',\n",
    "    'horse',\n",
    "    'ship',\n",
    "    'truck'\n",
    "]\n",
    "\n",
    "\n",
    "def load_image_process(image_path):\n",
    "    image = load_img(image_path, target_size=(32,32,3))\n",
    "    image_arr = img_to_array(image)\n",
    "    image_arr = image_arr / 255.0\n",
    "    image_arr = image_arr.reshape(1,32,32,3)\n",
    "    return image_arr\n",
    "\n",
    "def process_display(image_path):\n",
    "    processed_image = load_image_process(image_path)\n",
    "    prediction = model.predict(processed_image)\n",
    "\n",
    "    index = np.argmax(prediction)\n",
    "    class_label = labels[index]\n",
    "\n",
    "    plt.figure(figsize=(3,3))\n",
    "    plt.title(f'prediction : {class_label}')\n",
    "    plt.imshow(load_img(image_path, target_size=(32,32,3)))\n",
    "    plt.axis('off')\n",
    "    plt.show()"
   ]
  },
  {
   "cell_type": "code",
   "execution_count": 123,
   "id": "8b8e1424-2ba1-4b2c-8330-e5e0c7d817bd",
   "metadata": {},
   "outputs": [
    {
     "name": "stdout",
     "output_type": "stream",
     "text": [
      "1/1 [==============================] - 0s 36ms/step\n"
     ]
    },
    {
     "data": {
      "image/png": "[encoded data removed]",
      "text/plain": [
       "<Figure size 300x300 with 1 Axes>"
      ]
     },
     "metadata": {},
     "output_type": "display_data"
    }
   ],
   "source": [
    "image = 'datasets/4_CIFAR 10_images_dataset/cifar10_dataset/0/image_0.png' #plane\n",
    "# image = 'datasets/4_CIFAR 10_images_dataset/cifar10_dataset/1/image_1.png' #automobile\n",
    "# image = 'datasets/4_CIFAR 10_images_dataset/cifar10_dataset/2/image_2.png' #bird\n",
    "# image = 'datasets/4_CIFAR 10_images_dataset/cifar10_dataset/3/image_3.png' #cat--  \n",
    "# image = 'datasets/4_CIFAR 10_images_dataset/cifar10_dataset/4/image_4.png' #deer---\n",
    "# image = 'datasets/4_CIFAR 10_images_dataset/cifar10_dataset/5/image_5.png' #dog--\n",
    "# image = 'datasets/4_CIFAR 10_images_dataset/cifar10_dataset/6/image_6.png' #frog\n",
    "# image = 'datasets/4_CIFAR 10_images_dataset/cifar10_dataset/7/image_7.png' #horse\n",
    "# image = 'datasets/4_CIFAR 10_images_dataset/cifar10_dataset/8/image_8.png' #ship\n",
    "# image = 'datasets/4_CIFAR 10_images_dataset/cifar10_dataset/9/image_9.png' #truck\n",
    "process_display(image)"
   ]
  }
 ],
 "metadata": {
  "kernelspec": {
   "display_name": "Python 3 (ipykernel)",
   "language": "python",
   "name": "python3"
  },
  "language_info": {
   "codemirror_mode": {
    "name": "ipython",
    "version": 3
   },
   "file_extension": ".py",
   "mimetype": "text/x-python",
   "name": "python",
   "nbconvert_exporter": "python",
   "pygments_lexer": "ipython3",
   "version": "3.9.20"
  }
 },
 "nbformat": 4,
 "nbformat_minor": 5
}
