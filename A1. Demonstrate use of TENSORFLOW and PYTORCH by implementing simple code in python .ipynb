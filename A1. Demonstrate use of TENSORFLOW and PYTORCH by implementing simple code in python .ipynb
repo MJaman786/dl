{
 "cells": [
  {
   "cell_type": "markdown",
   "id": "da798eb5-6eac-45a4-97e3-ecda28e27f42",
   "metadata": {},
   "source": [
    "## tensorflow"
   ]
  },
  {
   "cell_type": "code",
   "execution_count": 1,
   "id": "a824794b-4800-459f-b991-0fde8a6aa348",
   "metadata": {},
   "outputs": [],
   "source": [
    "# Importing the TensorFlow library\n",
    "import tensorflow as tf  # Import TensorFlow"
   ]
  },
  {
   "cell_type": "code",
   "execution_count": 2,
   "id": "4829847c-99ac-4882-ba1f-6edbd99144c5",
   "metadata": {},
   "outputs": [
    {
     "name": "stdout",
     "output_type": "stream",
     "text": [
      "1D Tensor: [0 1 2 3 4]\n"
     ]
    }
   ],
   "source": [
    "# Creating tensors\n",
    "# Create a 1D tensor (vector) with values from 0 to 4\n",
    "tensor_1d = tf.range(5)  # Creates a tensor: [0, 1, 2, 3, 4]\n",
    "print(\"1D Tensor:\", tensor_1d.numpy())  # Convert to numpy and print"
   ]
  },
  {
   "cell_type": "code",
   "execution_count": 6,
   "id": "9da72b38-fd6d-4bea-873b-c2de76e84f1d",
   "metadata": {},
   "outputs": [
    {
     "name": "stdout",
     "output_type": "stream",
     "text": [
      "2D Tensor:\n",
      " [[1 2 3]\n",
      " [4 5 6]]\n"
     ]
    }
   ],
   "source": [
    "# Create a 2D tensor (matrix) with shape (2, 3)\n",
    "tensor_2d = tf.constant([[1, 2, 3], [4, 5, 6]])  # Creates a tensor: [[1, 2, 3], [4, 5, 6]]\n",
    "print(\"2D Tensor:\\n\", tensor_2d.numpy())  # Convert to numpy and print"
   ]
  },
  {
   "cell_type": "code",
   "execution_count": 7,
   "id": "1845f623-8636-4c2d-a0fe-4bea533eb5c0",
   "metadata": {},
   "outputs": [
    {
     "name": "stdout",
     "output_type": "stream",
     "text": [
      "Tensor after adding 10:\n",
      " [[11 12 13]\n",
      " [14 15 16]]\n"
     ]
    }
   ],
   "source": [
    "# Performing arithmetic operations\n",
    "# Adding a scalar to a tensor\n",
    "tensor_add = tensor_2d + 10  # Adds 10 to each element\n",
    "print(\"Tensor after adding 10:\\n\", tensor_add.numpy())  # Print the result"
   ]
  },
  {
   "cell_type": "code",
   "execution_count": 8,
   "id": "904ae135-2808-4cd2-9f55-15d1421852ab",
   "metadata": {},
   "outputs": [
    {
     "name": "stdout",
     "output_type": "stream",
     "text": [
      "Tensor after multiplying by 2:\n",
      " [[ 2  4  6]\n",
      " [ 8 10 12]]\n"
     ]
    }
   ],
   "source": [
    "# Element-wise multiplication\n",
    "tensor_mul = tensor_2d * 2  # Multiplies each element by 2\n",
    "print(\"Tensor after multiplying by 2:\\n\", tensor_mul.numpy())  # Print the result"
   ]
  },
  {
   "cell_type": "code",
   "execution_count": 9,
   "id": "3f5f7ed2-001e-4072-a4de-b68086e5aee2",
   "metadata": {},
   "outputs": [
    {
     "name": "stdout",
     "output_type": "stream",
     "text": [
      "Reshaped Tensor: [1 2 3 4 5 6]\n"
     ]
    }
   ],
   "source": [
    "# Basic tensor manipulation\n",
    "# Reshaping the 2D tensor to a 1D tensor\n",
    "tensor_reshaped = tf.reshape(tensor_2d, [6])  # Reshape to a vector of size 6\n",
    "print(\"Reshaped Tensor:\", tensor_reshaped.numpy())  # Print the reshaped tensor"
   ]
  },
  {
   "cell_type": "code",
   "execution_count": 10,
   "id": "b44b6cb4-f25c-49bc-99d5-a513f6d2a098",
   "metadata": {},
   "outputs": [
    {
     "name": "stdout",
     "output_type": "stream",
     "text": [
      "Element at (1, 2): 6\n"
     ]
    }
   ],
   "source": [
    "# Indexing a tensor\n",
    "# Access the element at row 1, column 2 (zero-indexed)\n",
    "element = tensor_2d[1, 2]  # Access element at 2nd row and 3rd column\n",
    "print(\"Element at (1, 2):\", element.numpy())  # Print the accessed element"
   ]
  },
  {
   "cell_type": "markdown",
   "id": "d2cf68fb-136e-46e4-bb99-187e135c49d7",
   "metadata": {},
   "source": [
    "## pytorch"
   ]
  },
  {
   "cell_type": "code",
   "execution_count": 11,
   "id": "0f0c7245-0fa9-45f3-a1e2-7d4e438755eb",
   "metadata": {},
   "outputs": [],
   "source": [
    "# Importing the PyTorch library\n",
    "import torch  # Import PyTorch"
   ]
  },
  {
   "cell_type": "code",
   "execution_count": 12,
   "id": "38625018-b930-4e49-a3fd-8bc2f07290be",
   "metadata": {},
   "outputs": [
    {
     "name": "stdout",
     "output_type": "stream",
     "text": [
      "1D Tensor: [0 1 2 3 4]\n"
     ]
    }
   ],
   "source": [
    "# Creating tensors\n",
    "# Create a 1D tensor (vector) with values from 0 to 4\n",
    "tensor_1d = torch.arange(5)  # Creates a tensor: [0, 1, 2, 3, 4]\n",
    "print(\"1D Tensor:\", tensor_1d.numpy())  # Convert to numpy and print"
   ]
  },
  {
   "cell_type": "code",
   "execution_count": 13,
   "id": "6bfabd21-dfe5-490f-943f-0e4d7ba42713",
   "metadata": {},
   "outputs": [
    {
     "name": "stdout",
     "output_type": "stream",
     "text": [
      "2D Tensor:\n",
      " [[1 2 3]\n",
      " [4 5 6]]\n"
     ]
    }
   ],
   "source": [
    "# Create a 2D tensor (matrix) with shape (2, 3)\n",
    "tensor_2d = torch.tensor([[1, 2, 3], [4, 5, 6]])  # Creates a tensor: [[1, 2, 3], [4, 5, 6]]\n",
    "print(\"2D Tensor:\\n\", tensor_2d.numpy())  # Convert to numpy and print"
   ]
  },
  {
   "cell_type": "code",
   "execution_count": 14,
   "id": "ac2199c3-2255-4ba5-8427-c97b23cedfa1",
   "metadata": {},
   "outputs": [
    {
     "name": "stdout",
     "output_type": "stream",
     "text": [
      "Tensor after adding 10:\n",
      " [[11 12 13]\n",
      " [14 15 16]]\n"
     ]
    }
   ],
   "source": [
    "# Performing arithmetic operations\n",
    "# Adding a scalar to a tensor\n",
    "tensor_add = tensor_2d + 10  # Adds 10 to each element\n",
    "print(\"Tensor after adding 10:\\n\", tensor_add.numpy())  # Print the result"
   ]
  },
  {
   "cell_type": "code",
   "execution_count": 15,
   "id": "9846ad8a-968f-4788-a9fe-d0eff74c61ad",
   "metadata": {},
   "outputs": [
    {
     "name": "stdout",
     "output_type": "stream",
     "text": [
      "Tensor after multiplying by 2:\n",
      " [[ 2  4  6]\n",
      " [ 8 10 12]]\n"
     ]
    }
   ],
   "source": [
    "# Element-wise multiplication\n",
    "tensor_mul = tensor_2d * 2  # Multiplies each element by 2\n",
    "print(\"Tensor after multiplying by 2:\\n\", tensor_mul.numpy())  # Print the result"
   ]
  },
  {
   "cell_type": "code",
   "execution_count": 16,
   "id": "61ec87c1-f6b2-4cb5-ba69-96fc196d8c81",
   "metadata": {},
   "outputs": [
    {
     "name": "stdout",
     "output_type": "stream",
     "text": [
      "Reshaped Tensor: [1 2 3 4 5 6]\n"
     ]
    }
   ],
   "source": [
    "# Basic tensor manipulation\n",
    "# Reshaping the 2D tensor to a 1D tensor\n",
    "tensor_reshaped = tensor_2d.view(6)  # Reshape to a vector of size 6\n",
    "print(\"Reshaped Tensor:\", tensor_reshaped.numpy())  # Print the reshaped tensor"
   ]
  },
  {
   "cell_type": "code",
   "execution_count": 17,
   "id": "cbbfe444-2003-421b-9a34-f4a7e1d0036d",
   "metadata": {},
   "outputs": [
    {
     "name": "stdout",
     "output_type": "stream",
     "text": [
      "Element at (1, 2): 6\n"
     ]
    }
   ],
   "source": [
    "# Indexing a tensor\n",
    "# Access the element at row 1, column 2 (zero-indexed)\n",
    "element = tensor_2d[1, 2]  # Access element at 2nd row and 3rd column\n",
    "print(\"Element at (1, 2):\", element.numpy())  # Print the accessed element"
   ]
  }
 ],
 "metadata": {
  "kernelspec": {
   "display_name": "Python 3 (ipykernel)",
   "language": "python",
   "name": "python3"
  },
  "language_info": {
   "codemirror_mode": {
    "name": "ipython",
    "version": 3
   },
   "file_extension": ".py",
   "mimetype": "text/x-python",
   "name": "python",
   "nbconvert_exporter": "python",
   "pygments_lexer": "ipython3",
   "version": "3.12.6"
  }
 },
 "nbformat": 4,
 "nbformat_minor": 5
}
