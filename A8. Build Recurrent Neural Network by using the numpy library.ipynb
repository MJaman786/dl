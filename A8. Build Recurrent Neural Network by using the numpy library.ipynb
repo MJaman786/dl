{
 "cells": [
  {
   "cell_type": "code",
   "execution_count": 5,
   "id": "43297303-e660-4469-a82b-1c2dafc58342",
   "metadata": {},
   "outputs": [],
   "source": [
    "# Import NumPy for numerical operations\n",
    "import numpy as np"
   ]
  },
  {
   "cell_type": "code",
   "execution_count": 10,
   "id": "aedbc6c0-bb9b-46ae-9590-26c49794e0e0",
   "metadata": {},
   "outputs": [],
   "source": [
    "class RNNCell:\n",
    "    def __init__(self, input_size, hidden_size):\n",
    "        # Initialize weights and biases\n",
    "        self.input_size = input_size  # Size of input features\n",
    "        self.hidden_size = hidden_size  # Size of hidden state\n",
    "\n",
    "        # Initialize weights for input to hidden connections\n",
    "        self.Wxh = np.random.rand(hidden_size, input_size) * 0.01\n",
    "        # Initialize weights for hidden to hidden (recurrent) connections\n",
    "        self.Whh = np.random.rand(hidden_size, hidden_size) * 0.01\n",
    "        # Initialize bias for hidden state\n",
    "        self.bh = np.zeros((hidden_size, 1))\n",
    "\n",
    "    def forward(self, x_t, h_prev):\n",
    "        # x_t: Current input vector\n",
    "        # h_prev: Previous hidden state\n",
    "\n",
    "        # Calculate new hidden state using tanh activation function\n",
    "        h_t = np.tanh(np.dot(self.Wxh, x_t) + np.dot(self.Whh, h_prev) + self.bh)\n",
    "        return h_t\n"
   ]
  },
  {
   "cell_type": "code",
   "execution_count": 11,
   "id": "c38c81d2-8d81-40fc-ae6f-35ead23f16a9",
   "metadata": {},
   "outputs": [
    {
     "name": "stdout",
     "output_type": "stream",
     "text": [
      "New hidden state (h_t):\n",
      "[[0.00350001]\n",
      " [0.00712655]]\n"
     ]
    }
   ],
   "source": [
    "# Example parameters\n",
    "input_size = 3  # Size of input vector\n",
    "hidden_size = 2  # Size of hidden state\n",
    "\n",
    "# Create an RNN cell instance\n",
    "rnn_cell = RNNCell(input_size, hidden_size)\n",
    "\n",
    "# Example input (3 features) and previous hidden state (2 features)\n",
    "x_t = np.array([[0.5], [0.1], [0.3]])  # Current input as a column vector\n",
    "h_prev = np.array([[0.0], [0.0]])  # Initial hidden state (zero)\n",
    "\n",
    "# Perform a forward pass\n",
    "h_t = rnn_cell.forward(x_t, h_prev)\n",
    "\n",
    "# Display the new hidden state\n",
    "print(\"New hidden state (h_t):\")\n",
    "print(h_t)\n"
   ]
  },
  {
   "cell_type": "markdown",
   "id": "f59732b4-27c4-4756-8f16-016d00aec76e",
   "metadata": {},
   "source": [
    "## new current"
   ]
  },
  {
   "cell_type": "code",
   "execution_count": 13,
   "id": "ccc5b2fa-ba6c-4335-bfd4-0c7a4b62f5e6",
   "metadata": {},
   "outputs": [],
   "source": [
    "import numpy as np"
   ]
  },
  {
   "cell_type": "code",
   "execution_count": 32,
   "id": "c16cb28c-ae15-466c-84d0-b06c6a42ca49",
   "metadata": {},
   "outputs": [],
   "source": [
    "class Rnn:\n",
    "    def __init__(self, input_size, output_size):\n",
    "        self.input_size = input_size\n",
    "        self.output_size = output_size\n",
    "\n",
    "        self.Wxh = np.random.rand(output_size, input_size) * 0.01\n",
    "        self.Whh = np.random.rand(output_size, output_size) * 0.01\n",
    "        self.bh = np.zeros((output_size, 1))\n",
    "\n",
    "    def forwardpass(self, c_input, p_hidden):\n",
    "        new_hidden = np.tanh(np.dot(self.Wxh, c_input) + np.dot(self.Whh, p_hidden) + self.bh)\n",
    "        return new_hidden"
   ]
  },
  {
   "cell_type": "code",
   "execution_count": 33,
   "id": "4c7673fe-c733-435c-a63a-c30279553879",
   "metadata": {},
   "outputs": [],
   "source": [
    "input_size = 3\n",
    "output_size = 2\n",
    "\n",
    "rnn_cell = Rnn(input_size, output_size)\n",
    "c_input = [[0.5],[0.1],[0.3]]\n",
    "p_hidden = [[0.0],[0.0]]\n",
    "\n",
    "new_hidden = rnn_cell.forwardpass(c_input, p_hidden)"
   ]
  },
  {
   "cell_type": "code",
   "execution_count": 34,
   "id": "cef60d44-0b85-451b-9216-9fc94f53cf9c",
   "metadata": {},
   "outputs": [
    {
     "name": "stdout",
     "output_type": "stream",
     "text": [
      "New hidden state (new_hidden):\n",
      "[[0.00657863]\n",
      " [0.00202125]]\n"
     ]
    }
   ],
   "source": [
    "# Display the new hidden state\n",
    "print(\"New hidden state (new_hidden):\")\n",
    "print(new_hidden)"
   ]
  },
  {
   "cell_type": "code",
   "execution_count": null,
   "id": "87b46e76-c884-4da5-a876-176fe0d5b381",
   "metadata": {},
   "outputs": [],
   "source": []
  },
  {
   "cell_type": "code",
   "execution_count": null,
   "id": "dc356cda-6e2f-423d-a3e0-a54eedf3a098",
   "metadata": {},
   "outputs": [],
   "source": []
  },
  {
   "cell_type": "code",
   "execution_count": 12,
   "id": "16b94743-10b0-4d73-9f48-35c7d38cd4cb",
   "metadata": {},
   "outputs": [
    {
     "name": "stdout",
     "output_type": "stream",
     "text": [
      "Outputs:\n",
      "Time step 1: [ 1.75477607e-04 -1.17236379e-05]\n",
      "Time step 2: [-4.91793409e-05 -1.32727586e-04]\n",
      "Time step 3: [-8.07697573e-05 -1.79024062e-04]\n",
      "Time step 4: [0.00095202 0.00018827]\n",
      "\n",
      "Final Hidden State: [-0.01060116  0.00378588  0.00330667 -0.04172017 -0.02007148]\n"
     ]
    }
   ],
   "source": [
    "import numpy as np\n",
    "\n",
    "class SimpleRNN:\n",
    "    def __init__(self, input_size, hidden_size, output_size):\n",
    "        # Initialize weights for the RNN\n",
    "        self.hidden_size = hidden_size\n",
    "        self.Wxh = np.random.randn(hidden_size, input_size) * 0.01  # Input to hidden\n",
    "        self.Whh = np.random.randn(hidden_size, hidden_size) * 0.01  # Hidden to hidden\n",
    "        self.Why = np.random.randn(output_size, hidden_size) * 0.01  # Hidden to output\n",
    "        self.bh = np.zeros((hidden_size, 1))  # Hidden bias\n",
    "        self.by = np.zeros((output_size, 1))  # Output bias\n",
    "\n",
    "    def forward(self, inputs):\n",
    "        # Forward pass through the RNN\n",
    "        h = np.zeros((self.hidden_size, 1))  # Initialize hidden state\n",
    "        outputs = []\n",
    "\n",
    "        for x in inputs:\n",
    "            x = x.reshape(-1, 1)  # Reshape input to column vector\n",
    "            # Calculate the next hidden state\n",
    "            h = np.tanh(np.dot(self.Wxh, x) + np.dot(self.Whh, h) + self.bh)\n",
    "            # Calculate the output\n",
    "            y = np.dot(self.Why, h) + self.by\n",
    "            outputs.append(y)\n",
    "\n",
    "        return outputs, h\n",
    "\n",
    "# Parameters for RNN\n",
    "input_size = 3     # Number of input features\n",
    "hidden_size = 5    # Number of hidden units\n",
    "output_size = 2    # Number of output features\n",
    "sequence_length = 4  # Length of the input sequence\n",
    "\n",
    "# Initialize the RNN\n",
    "rnn = SimpleRNN(input_size, hidden_size, output_size)\n",
    "\n",
    "# Create a random input sequence\n",
    "inputs = [np.random.randn(input_size) for _ in range(sequence_length)]\n",
    "\n",
    "# Run the forward pass\n",
    "outputs, hidden_state = rnn.forward(inputs)\n",
    "\n",
    "print(\"Outputs:\")\n",
    "for i, output in enumerate(outputs):\n",
    "    print(f\"Time step {i + 1}: {output.flatten()}\")\n",
    "print(\"\\nFinal Hidden State:\", hidden_state.flatten())\n"
   ]
  },
  {
   "cell_type": "code",
   "execution_count": null,
   "id": "4073a7da-e3c1-4628-b3ad-fab7d66e9744",
   "metadata": {},
   "outputs": [],
   "source": []
  }
 ],
 "metadata": {
  "kernelspec": {
   "display_name": "Python 3 (ipykernel)",
   "language": "python",
   "name": "python3"
  },
  "language_info": {
   "codemirror_mode": {
    "name": "ipython",
    "version": 3
   },
   "file_extension": ".py",
   "mimetype": "text/x-python",
   "name": "python",
   "nbconvert_exporter": "python",
   "pygments_lexer": "ipython3",
   "version": "3.12.6"
  }
 },
 "nbformat": 4,
 "nbformat_minor": 5
}
